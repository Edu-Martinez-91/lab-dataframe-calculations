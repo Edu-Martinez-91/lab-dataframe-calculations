{
 "cells": [
  {
   "cell_type": "markdown",
   "metadata": {},
   "source": [
    "# Challenge 1\n",
    "\n",
    "In this challenge you will be working on **Pokemon**. You will answer a series of questions in order to practice dataframe calculation, aggregation, and transformation.\n",
    "\n",
    "![Pokemon](../images/pokemon.jpg)\n",
    "\n",
    "Follow the instructions below and enter your code.\n",
    "\n",
    "#### Import all required libraries."
   ]
  },
  {
   "cell_type": "code",
   "execution_count": 107,
   "metadata": {},
   "outputs": [],
   "source": [
    "# import libraries\n",
    "import pandas as pd"
   ]
  },
  {
   "cell_type": "markdown",
   "metadata": {},
   "source": [
    "#### Import data set.\n",
    "\n",
    "Read the dataset `pokemon.csv` into a dataframe called `pokemon`.\n",
    "\n",
    "*Data set attributed to [Alberto Barradas](https://www.kaggle.com/abcsds/pokemon/)*"
   ]
  },
  {
   "cell_type": "code",
   "execution_count": 108,
   "metadata": {},
   "outputs": [],
   "source": [
    "# import dataset\n",
    "pokemon=pd.read_csv(\"Pokemon.csv\")"
   ]
  },
  {
   "cell_type": "markdown",
   "metadata": {},
   "source": [
    "#### Print first 10 rows of `pokemon`."
   ]
  },
  {
   "cell_type": "code",
   "execution_count": 109,
   "metadata": {},
   "outputs": [
    {
     "data": {
      "text/html": [
       "<div>\n",
       "<style scoped>\n",
       "    .dataframe tbody tr th:only-of-type {\n",
       "        vertical-align: middle;\n",
       "    }\n",
       "\n",
       "    .dataframe tbody tr th {\n",
       "        vertical-align: top;\n",
       "    }\n",
       "\n",
       "    .dataframe thead th {\n",
       "        text-align: right;\n",
       "    }\n",
       "</style>\n",
       "<table border=\"1\" class=\"dataframe\">\n",
       "  <thead>\n",
       "    <tr style=\"text-align: right;\">\n",
       "      <th></th>\n",
       "      <th>#</th>\n",
       "      <th>Name</th>\n",
       "      <th>Type 1</th>\n",
       "      <th>Type 2</th>\n",
       "      <th>Total</th>\n",
       "      <th>HP</th>\n",
       "      <th>Attack</th>\n",
       "      <th>Defense</th>\n",
       "      <th>Sp. Atk</th>\n",
       "      <th>Sp. Def</th>\n",
       "      <th>Speed</th>\n",
       "      <th>Generation</th>\n",
       "      <th>Legendary</th>\n",
       "    </tr>\n",
       "  </thead>\n",
       "  <tbody>\n",
       "    <tr>\n",
       "      <th>795</th>\n",
       "      <td>719</td>\n",
       "      <td>Diancie</td>\n",
       "      <td>Rock</td>\n",
       "      <td>Fairy</td>\n",
       "      <td>600</td>\n",
       "      <td>50</td>\n",
       "      <td>100</td>\n",
       "      <td>150</td>\n",
       "      <td>100</td>\n",
       "      <td>150</td>\n",
       "      <td>50</td>\n",
       "      <td>6</td>\n",
       "      <td>True</td>\n",
       "    </tr>\n",
       "    <tr>\n",
       "      <th>796</th>\n",
       "      <td>719</td>\n",
       "      <td>DiancieMega Diancie</td>\n",
       "      <td>Rock</td>\n",
       "      <td>Fairy</td>\n",
       "      <td>700</td>\n",
       "      <td>50</td>\n",
       "      <td>160</td>\n",
       "      <td>110</td>\n",
       "      <td>160</td>\n",
       "      <td>110</td>\n",
       "      <td>110</td>\n",
       "      <td>6</td>\n",
       "      <td>True</td>\n",
       "    </tr>\n",
       "    <tr>\n",
       "      <th>797</th>\n",
       "      <td>720</td>\n",
       "      <td>HoopaHoopa Confined</td>\n",
       "      <td>Psychic</td>\n",
       "      <td>Ghost</td>\n",
       "      <td>600</td>\n",
       "      <td>80</td>\n",
       "      <td>110</td>\n",
       "      <td>60</td>\n",
       "      <td>150</td>\n",
       "      <td>130</td>\n",
       "      <td>70</td>\n",
       "      <td>6</td>\n",
       "      <td>True</td>\n",
       "    </tr>\n",
       "    <tr>\n",
       "      <th>798</th>\n",
       "      <td>720</td>\n",
       "      <td>HoopaHoopa Unbound</td>\n",
       "      <td>Psychic</td>\n",
       "      <td>Dark</td>\n",
       "      <td>680</td>\n",
       "      <td>80</td>\n",
       "      <td>160</td>\n",
       "      <td>60</td>\n",
       "      <td>170</td>\n",
       "      <td>130</td>\n",
       "      <td>80</td>\n",
       "      <td>6</td>\n",
       "      <td>True</td>\n",
       "    </tr>\n",
       "    <tr>\n",
       "      <th>799</th>\n",
       "      <td>721</td>\n",
       "      <td>Volcanion</td>\n",
       "      <td>Fire</td>\n",
       "      <td>Water</td>\n",
       "      <td>600</td>\n",
       "      <td>80</td>\n",
       "      <td>110</td>\n",
       "      <td>120</td>\n",
       "      <td>130</td>\n",
       "      <td>90</td>\n",
       "      <td>70</td>\n",
       "      <td>6</td>\n",
       "      <td>True</td>\n",
       "    </tr>\n",
       "  </tbody>\n",
       "</table>\n",
       "</div>"
      ],
      "text/plain": [
       "       #                 Name   Type 1 Type 2  Total  HP  Attack  Defense  \\\n",
       "795  719              Diancie     Rock  Fairy    600  50     100      150   \n",
       "796  719  DiancieMega Diancie     Rock  Fairy    700  50     160      110   \n",
       "797  720  HoopaHoopa Confined  Psychic  Ghost    600  80     110       60   \n",
       "798  720   HoopaHoopa Unbound  Psychic   Dark    680  80     160       60   \n",
       "799  721            Volcanion     Fire  Water    600  80     110      120   \n",
       "\n",
       "     Sp. Atk  Sp. Def  Speed  Generation  Legendary  \n",
       "795      100      150     50           6       True  \n",
       "796      160      110    110           6       True  \n",
       "797      150      130     70           6       True  \n",
       "798      170      130     80           6       True  \n",
       "799      130       90     70           6       True  "
      ]
     },
     "execution_count": 109,
     "metadata": {},
     "output_type": "execute_result"
    }
   ],
   "source": [
    "# your code here\n",
    "pokemon.tail()"
   ]
  },
  {
   "cell_type": "markdown",
   "metadata": {},
   "source": [
    "When you look at a data set, you often wonder what each column means. Some open-source data sets provide descriptions of the data set. In many cases, data descriptions are extremely useful for data analysts to perform work efficiently and successfully.\n",
    "\n",
    "For the `Pokemon.csv` data set, fortunately, the owner provided descriptions which you can see [here](https://www.kaggle.com/abcsds/pokemon/home). For your convenience, we are including the descriptions below. Read the descriptions and understand what each column means. This knowledge is helpful in your work with the data.\n",
    "\n",
    "| Column | Description |\n",
    "| --- | --- |\n",
    "| # | ID for each pokemon |\n",
    "| Name | Name of each pokemon |\n",
    "| Type 1 | Each pokemon has a type, this determines weakness/resistance to attacks |\n",
    "| Type 2 | Some pokemon are dual type and have 2 |\n",
    "| Total | A general guide to how strong a pokemon is |\n",
    "| HP | Hit points, or health, defines how much damage a pokemon can withstand before fainting |\n",
    "| Attack | The base modifier for normal attacks (eg. Scratch, Punch) |\n",
    "| Defense | The base damage resistance against normal attacks |\n",
    "| SP Atk | Special attack, the base modifier for special attacks (e.g. fire blast, bubble beam) |\n",
    "| SP Def | The base damage resistance against special attacks |\n",
    "| Speed | Determines which pokemon attacks first each round |\n",
    "| Generation | Number of generation |\n",
    "| Legendary | True if Legendary Pokemon False if not |"
   ]
  },
  {
   "cell_type": "markdown",
   "metadata": {},
   "source": [
    "#### Obtain the distinct values across `Type 1` and `Type 2`.\n",
    "\n",
    "Exctract all the values in `Type 1` and `Type 2`. Then create an array containing the distinct values across both fields."
   ]
  },
  {
   "cell_type": "code",
   "execution_count": 110,
   "metadata": {},
   "outputs": [
    {
     "name": "stdout",
     "output_type": "stream",
     "text": [
      "['Poison', nan, 'Flying', 'Dragon', 'Ground', 'Fairy', 'Grass', 'Fighting', 'Psychic', 'Steel', 'Ice', 'Rock', 'Dark', 'Water', 'Electric', 'Fire', 'Ghost', 'Bug', 'Normal']\n"
     ]
    }
   ],
   "source": [
    "# your code here\n",
    "pokemon.columns=[col.lower().replace(\" \",\"_\")for col in pokemon.columns]\n",
    "\n",
    "list_type1=list(pokemon.type_1.unique())\n",
    "list_type1\n",
    "list_type2=list(pokemon.type_2.unique())\n",
    "print(list_type2)"
   ]
  },
  {
   "cell_type": "code",
   "execution_count": 111,
   "metadata": {},
   "outputs": [
    {
     "name": "stdout",
     "output_type": "stream",
     "text": [
      "['Grass', 'Fire', 'Water', 'Bug', 'Normal', 'Poison', 'Electric', 'Ground', 'Fairy', 'Fighting', 'Psychic', 'Rock', 'Ghost', 'Ice', 'Dragon', 'Dark', 'Steel', 'Flying']\n"
     ]
    }
   ],
   "source": [
    "print(list_type1)"
   ]
  },
  {
   "cell_type": "code",
   "execution_count": 112,
   "metadata": {},
   "outputs": [
    {
     "name": "stdout",
     "output_type": "stream",
     "text": [
      "{'Poison', 'Dark', 'Water', 'Fire', 'Steel', 'Electric', nan, 'Ground', 'Fighting', 'Rock', 'Bug', 'Fairy', 'Dragon', 'Ghost', 'Ice', 'Flying', 'Normal', 'Grass', 'Psychic'}\n"
     ]
    }
   ],
   "source": [
    "print(set(list_type1+list_type2))"
   ]
  },
  {
   "cell_type": "markdown",
   "metadata": {},
   "source": [
    "#### Cleanup `Name` that contain \"Mega\".\n",
    "\n",
    "If you have checked out the pokemon names carefully enough, you should have found there are junk texts in the pokemon names which contain \"Mega\". We want to clean up the pokemon names. For instance, \"VenusaurMega Venusaur\" should be \"Mega Venusaur\", and \"CharizardMega Charizard X\" should be \"Mega Charizard X\"."
   ]
  },
  {
   "cell_type": "code",
   "execution_count": 113,
   "metadata": {},
   "outputs": [
    {
     "data": {
      "text/plain": [
       "['AbomasnowMega Abomasnow',\n",
       " 'AbsolMega Absol',\n",
       " 'AerodactylMega Aerodactyl',\n",
       " 'AggronMega Aggron',\n",
       " 'AlakazamMega Alakazam',\n",
       " 'AltariaMega Altaria',\n",
       " 'AmpharosMega Ampharos',\n",
       " 'AudinoMega Audino',\n",
       " 'BanetteMega Banette',\n",
       " 'BeedrillMega Beedrill',\n",
       " 'BlastoiseMega Blastoise',\n",
       " 'BlazikenMega Blaziken',\n",
       " 'CameruptMega Camerupt',\n",
       " 'CharizardMega Charizard X',\n",
       " 'CharizardMega Charizard Y',\n",
       " 'DiancieMega Diancie',\n",
       " 'GalladeMega Gallade',\n",
       " 'GarchompMega Garchomp',\n",
       " 'GardevoirMega Gardevoir',\n",
       " 'GengarMega Gengar',\n",
       " 'GlalieMega Glalie',\n",
       " 'GyaradosMega Gyarados',\n",
       " 'HeracrossMega Heracross',\n",
       " 'HoundoomMega Houndoom',\n",
       " 'KangaskhanMega Kangaskhan',\n",
       " 'LatiasMega Latias',\n",
       " 'LatiosMega Latios',\n",
       " 'LopunnyMega Lopunny',\n",
       " 'LucarioMega Lucario',\n",
       " 'ManectricMega Manectric',\n",
       " 'MawileMega Mawile',\n",
       " 'MedichamMega Medicham',\n",
       " 'Meganium',\n",
       " 'MetagrossMega Metagross',\n",
       " 'MewtwoMega Mewtwo X',\n",
       " 'MewtwoMega Mewtwo Y',\n",
       " 'PidgeotMega Pidgeot',\n",
       " 'PinsirMega Pinsir',\n",
       " 'RayquazaMega Rayquaza',\n",
       " 'SableyeMega Sableye',\n",
       " 'SalamenceMega Salamence',\n",
       " 'SceptileMega Sceptile',\n",
       " 'ScizorMega Scizor',\n",
       " 'SharpedoMega Sharpedo',\n",
       " 'SlowbroMega Slowbro',\n",
       " 'SteelixMega Steelix',\n",
       " 'SwampertMega Swampert',\n",
       " 'TyranitarMega Tyranitar',\n",
       " 'VenusaurMega Venusaur']"
      ]
     },
     "execution_count": 113,
     "metadata": {},
     "output_type": "execute_result"
    }
   ],
   "source": [
    "# your code here\n",
    "list(pokemon[pokemon.name.str.contains(\"Mega\")].name.sort_values().unique())\n"
   ]
  },
  {
   "cell_type": "code",
   "execution_count": 114,
   "metadata": {},
   "outputs": [],
   "source": [
    "pokemon[\"name\"]= pokemon[\"name\"].str.replace(r\"(\\w+)(Mega) \\1\", r\"Mega \\1\", regex=True)"
   ]
  },
  {
   "cell_type": "code",
   "execution_count": 115,
   "metadata": {},
   "outputs": [
    {
     "data": {
      "text/plain": [
       "['Mega Abomasnow',\n",
       " 'Mega Absol',\n",
       " 'Mega Aerodactyl',\n",
       " 'Mega Aggron',\n",
       " 'Mega Alakazam',\n",
       " 'Mega Altaria',\n",
       " 'Mega Ampharos',\n",
       " 'Mega Audino',\n",
       " 'Mega Banette',\n",
       " 'Mega Beedrill',\n",
       " 'Mega Blastoise',\n",
       " 'Mega Blaziken',\n",
       " 'Mega Camerupt',\n",
       " 'Mega Charizard X',\n",
       " 'Mega Charizard Y',\n",
       " 'Mega Diancie',\n",
       " 'Mega Gallade',\n",
       " 'Mega Garchomp',\n",
       " 'Mega Gardevoir',\n",
       " 'Mega Gengar',\n",
       " 'Mega Glalie',\n",
       " 'Mega Gyarados',\n",
       " 'Mega Heracross',\n",
       " 'Mega Houndoom',\n",
       " 'Mega Kangaskhan',\n",
       " 'Mega Latias',\n",
       " 'Mega Latios',\n",
       " 'Mega Lopunny',\n",
       " 'Mega Lucario',\n",
       " 'Mega Manectric',\n",
       " 'Mega Mawile',\n",
       " 'Mega Medicham',\n",
       " 'Mega Metagross',\n",
       " 'Mega Mewtwo X',\n",
       " 'Mega Mewtwo Y',\n",
       " 'Mega Pidgeot',\n",
       " 'Mega Pinsir',\n",
       " 'Mega Rayquaza',\n",
       " 'Mega Sableye',\n",
       " 'Mega Salamence',\n",
       " 'Mega Sceptile',\n",
       " 'Mega Scizor',\n",
       " 'Mega Sharpedo',\n",
       " 'Mega Slowbro',\n",
       " 'Mega Steelix',\n",
       " 'Mega Swampert',\n",
       " 'Mega Tyranitar',\n",
       " 'Mega Venusaur',\n",
       " 'Meganium']"
      ]
     },
     "execution_count": 115,
     "metadata": {},
     "output_type": "execute_result"
    }
   ],
   "source": [
    "# your code here\n",
    "list(pokemon[pokemon.name.str.contains(\"Mega\")].name.sort_values().unique())\n"
   ]
  },
  {
   "cell_type": "code",
   "execution_count": 116,
   "metadata": {},
   "outputs": [
    {
     "data": {
      "text/html": [
       "<div>\n",
       "<style scoped>\n",
       "    .dataframe tbody tr th:only-of-type {\n",
       "        vertical-align: middle;\n",
       "    }\n",
       "\n",
       "    .dataframe tbody tr th {\n",
       "        vertical-align: top;\n",
       "    }\n",
       "\n",
       "    .dataframe thead th {\n",
       "        text-align: right;\n",
       "    }\n",
       "</style>\n",
       "<table border=\"1\" class=\"dataframe\">\n",
       "  <thead>\n",
       "    <tr style=\"text-align: right;\">\n",
       "      <th></th>\n",
       "      <th>#</th>\n",
       "      <th>name</th>\n",
       "      <th>type_1</th>\n",
       "      <th>type_2</th>\n",
       "      <th>total</th>\n",
       "      <th>hp</th>\n",
       "      <th>attack</th>\n",
       "      <th>defense</th>\n",
       "      <th>sp._atk</th>\n",
       "      <th>sp._def</th>\n",
       "      <th>speed</th>\n",
       "      <th>generation</th>\n",
       "      <th>legendary</th>\n",
       "    </tr>\n",
       "  </thead>\n",
       "  <tbody>\n",
       "    <tr>\n",
       "      <th>0</th>\n",
       "      <td>1</td>\n",
       "      <td>Bulbasaur</td>\n",
       "      <td>Grass</td>\n",
       "      <td>Poison</td>\n",
       "      <td>318</td>\n",
       "      <td>45</td>\n",
       "      <td>49</td>\n",
       "      <td>49</td>\n",
       "      <td>65</td>\n",
       "      <td>65</td>\n",
       "      <td>45</td>\n",
       "      <td>1</td>\n",
       "      <td>False</td>\n",
       "    </tr>\n",
       "    <tr>\n",
       "      <th>1</th>\n",
       "      <td>2</td>\n",
       "      <td>Ivysaur</td>\n",
       "      <td>Grass</td>\n",
       "      <td>Poison</td>\n",
       "      <td>405</td>\n",
       "      <td>60</td>\n",
       "      <td>62</td>\n",
       "      <td>63</td>\n",
       "      <td>80</td>\n",
       "      <td>80</td>\n",
       "      <td>60</td>\n",
       "      <td>1</td>\n",
       "      <td>False</td>\n",
       "    </tr>\n",
       "    <tr>\n",
       "      <th>2</th>\n",
       "      <td>3</td>\n",
       "      <td>Venusaur</td>\n",
       "      <td>Grass</td>\n",
       "      <td>Poison</td>\n",
       "      <td>525</td>\n",
       "      <td>80</td>\n",
       "      <td>82</td>\n",
       "      <td>83</td>\n",
       "      <td>100</td>\n",
       "      <td>100</td>\n",
       "      <td>80</td>\n",
       "      <td>1</td>\n",
       "      <td>False</td>\n",
       "    </tr>\n",
       "    <tr>\n",
       "      <th>3</th>\n",
       "      <td>3</td>\n",
       "      <td>Mega Venusaur</td>\n",
       "      <td>Grass</td>\n",
       "      <td>Poison</td>\n",
       "      <td>625</td>\n",
       "      <td>80</td>\n",
       "      <td>100</td>\n",
       "      <td>123</td>\n",
       "      <td>122</td>\n",
       "      <td>120</td>\n",
       "      <td>80</td>\n",
       "      <td>1</td>\n",
       "      <td>False</td>\n",
       "    </tr>\n",
       "    <tr>\n",
       "      <th>4</th>\n",
       "      <td>4</td>\n",
       "      <td>Charmander</td>\n",
       "      <td>Fire</td>\n",
       "      <td>NaN</td>\n",
       "      <td>309</td>\n",
       "      <td>39</td>\n",
       "      <td>52</td>\n",
       "      <td>43</td>\n",
       "      <td>60</td>\n",
       "      <td>50</td>\n",
       "      <td>65</td>\n",
       "      <td>1</td>\n",
       "      <td>False</td>\n",
       "    </tr>\n",
       "    <tr>\n",
       "      <th>5</th>\n",
       "      <td>5</td>\n",
       "      <td>Charmeleon</td>\n",
       "      <td>Fire</td>\n",
       "      <td>NaN</td>\n",
       "      <td>405</td>\n",
       "      <td>58</td>\n",
       "      <td>64</td>\n",
       "      <td>58</td>\n",
       "      <td>80</td>\n",
       "      <td>65</td>\n",
       "      <td>80</td>\n",
       "      <td>1</td>\n",
       "      <td>False</td>\n",
       "    </tr>\n",
       "    <tr>\n",
       "      <th>6</th>\n",
       "      <td>6</td>\n",
       "      <td>Charizard</td>\n",
       "      <td>Fire</td>\n",
       "      <td>Flying</td>\n",
       "      <td>534</td>\n",
       "      <td>78</td>\n",
       "      <td>84</td>\n",
       "      <td>78</td>\n",
       "      <td>109</td>\n",
       "      <td>85</td>\n",
       "      <td>100</td>\n",
       "      <td>1</td>\n",
       "      <td>False</td>\n",
       "    </tr>\n",
       "    <tr>\n",
       "      <th>7</th>\n",
       "      <td>6</td>\n",
       "      <td>Mega Charizard X</td>\n",
       "      <td>Fire</td>\n",
       "      <td>Dragon</td>\n",
       "      <td>634</td>\n",
       "      <td>78</td>\n",
       "      <td>130</td>\n",
       "      <td>111</td>\n",
       "      <td>130</td>\n",
       "      <td>85</td>\n",
       "      <td>100</td>\n",
       "      <td>1</td>\n",
       "      <td>False</td>\n",
       "    </tr>\n",
       "    <tr>\n",
       "      <th>8</th>\n",
       "      <td>6</td>\n",
       "      <td>Mega Charizard Y</td>\n",
       "      <td>Fire</td>\n",
       "      <td>Flying</td>\n",
       "      <td>634</td>\n",
       "      <td>78</td>\n",
       "      <td>104</td>\n",
       "      <td>78</td>\n",
       "      <td>159</td>\n",
       "      <td>115</td>\n",
       "      <td>100</td>\n",
       "      <td>1</td>\n",
       "      <td>False</td>\n",
       "    </tr>\n",
       "    <tr>\n",
       "      <th>9</th>\n",
       "      <td>7</td>\n",
       "      <td>Squirtle</td>\n",
       "      <td>Water</td>\n",
       "      <td>NaN</td>\n",
       "      <td>314</td>\n",
       "      <td>44</td>\n",
       "      <td>48</td>\n",
       "      <td>65</td>\n",
       "      <td>50</td>\n",
       "      <td>64</td>\n",
       "      <td>43</td>\n",
       "      <td>1</td>\n",
       "      <td>False</td>\n",
       "    </tr>\n",
       "  </tbody>\n",
       "</table>\n",
       "</div>"
      ],
      "text/plain": [
       "   #              name type_1  type_2  total  hp  attack  defense  sp._atk  \\\n",
       "0  1         Bulbasaur  Grass  Poison    318  45      49       49       65   \n",
       "1  2           Ivysaur  Grass  Poison    405  60      62       63       80   \n",
       "2  3          Venusaur  Grass  Poison    525  80      82       83      100   \n",
       "3  3     Mega Venusaur  Grass  Poison    625  80     100      123      122   \n",
       "4  4        Charmander   Fire     NaN    309  39      52       43       60   \n",
       "5  5        Charmeleon   Fire     NaN    405  58      64       58       80   \n",
       "6  6         Charizard   Fire  Flying    534  78      84       78      109   \n",
       "7  6  Mega Charizard X   Fire  Dragon    634  78     130      111      130   \n",
       "8  6  Mega Charizard Y   Fire  Flying    634  78     104       78      159   \n",
       "9  7          Squirtle  Water     NaN    314  44      48       65       50   \n",
       "\n",
       "   sp._def  speed  generation  legendary  \n",
       "0       65     45           1      False  \n",
       "1       80     60           1      False  \n",
       "2      100     80           1      False  \n",
       "3      120     80           1      False  \n",
       "4       50     65           1      False  \n",
       "5       65     80           1      False  \n",
       "6       85    100           1      False  \n",
       "7       85    100           1      False  \n",
       "8      115    100           1      False  \n",
       "9       64     43           1      False  "
      ]
     },
     "execution_count": 116,
     "metadata": {},
     "output_type": "execute_result"
    }
   ],
   "source": [
    "\n",
    "# test transformed data\n",
    "pokemon.head(10)"
   ]
  },
  {
   "cell_type": "markdown",
   "metadata": {},
   "source": [
    "#### Create a new column called `A/D Ratio` whose value equals to `Attack` devided by `Defense`.\n",
    "\n",
    "For instance, if a pokemon has the Attack score 49 and Defense score 49, the corresponding `A/D Ratio` is 49/49=1."
   ]
  },
  {
   "cell_type": "code",
   "execution_count": 125,
   "metadata": {},
   "outputs": [
    {
     "data": {
      "text/plain": [
       "0      1.000000\n",
       "1      0.984127\n",
       "2      0.987952\n",
       "3      0.813008\n",
       "4      1.209302\n",
       "         ...   \n",
       "795    0.666667\n",
       "796    1.454545\n",
       "797    1.833333\n",
       "798    2.666667\n",
       "799    0.916667\n",
       "Name: a/d_ratio, Length: 800, dtype: float64"
      ]
     },
     "execution_count": 125,
     "metadata": {},
     "output_type": "execute_result"
    }
   ],
   "source": [
    "# your code here\n",
    "\n",
    "pokemon[\"a/d_ratio\"]=pokemon[\"attack\"]/pokemon[\"defense\"]\n",
    "\n",
    "pokemon[\"a/d_ratio\"]"
   ]
  },
  {
   "cell_type": "markdown",
   "metadata": {},
   "source": [
    "#### Identify the pokemon with the highest `A/D Ratio`."
   ]
  },
  {
   "cell_type": "code",
   "execution_count": 128,
   "metadata": {},
   "outputs": [
    {
     "data": {
      "text/plain": [
       "#                            386\n",
       "name          DeoxysAttack Forme\n",
       "type_1                   Psychic\n",
       "type_2                       NaN\n",
       "total                        600\n",
       "hp                            50\n",
       "attack                       180\n",
       "defense                       20\n",
       "sp._atk                      180\n",
       "sp._def                       20\n",
       "speed                        150\n",
       "generation                     3\n",
       "legendary                   True\n",
       "a/d_ratio                    9.0\n",
       "Name: 429, dtype: object"
      ]
     },
     "execution_count": 128,
     "metadata": {},
     "output_type": "execute_result"
    }
   ],
   "source": [
    "# your code here\n",
    "pokemon[\"a/d_ratio\"].sort_values(ascending=False)\n",
    "pokemon.iloc[429]"
   ]
  },
  {
   "cell_type": "markdown",
   "metadata": {},
   "source": [
    "#### Identify the pokemon with the lowest A/D Ratio."
   ]
  },
  {
   "cell_type": "code",
   "execution_count": 130,
   "metadata": {},
   "outputs": [
    {
     "data": {
      "text/plain": [
       "#                  213\n",
       "name           Shuckle\n",
       "type_1             Bug\n",
       "type_2            Rock\n",
       "total              505\n",
       "hp                  20\n",
       "attack              10\n",
       "defense            230\n",
       "sp._atk             10\n",
       "sp._def            230\n",
       "speed                5\n",
       "generation           2\n",
       "legendary        False\n",
       "a/d_ratio     0.043478\n",
       "Name: 230, dtype: object"
      ]
     },
     "execution_count": 130,
     "metadata": {},
     "output_type": "execute_result"
    }
   ],
   "source": [
    "# your code here\n",
    "pokemon[\"a/d_ratio\"].sort_values()\n",
    "pokemon.iloc[230]"
   ]
  },
  {
   "cell_type": "markdown",
   "metadata": {},
   "source": [
    "#### Create a new column called `Combo Type` whose value combines `Type 1` and `Type 2`.\n",
    "\n",
    "Rules:\n",
    "\n",
    "* If both `Type 1` and `Type 2` have valid values, the `Combo Type` value should contain both values in the form of `<Type 1> <Type 2>`. For example, if `Type 1` value is `Grass` and `Type 2` value is `Poison`, `Combo Type` will be `Grass-Poison`.\n",
    "\n",
    "* If `Type 1` has valid value but `Type 2` is not, `Combo Type` will be the same as `Type 1`. For example, if `Type 1` is `Fire` whereas `Type 2` is `NaN`, `Combo Type` will be `Fire`."
   ]
  },
  {
   "cell_type": "code",
   "execution_count": 134,
   "metadata": {},
   "outputs": [],
   "source": [
    "# your code here\n",
    "pokemon[\"combotype\"]=pokemon[[\"type_1\",\"type_2\"]].fillna(\" \").agg(\"-\".join,axis=1)"
   ]
  },
  {
   "cell_type": "markdown",
   "metadata": {},
   "source": [
    "El problema del código de arriba, es que dejará todos los valores de un solo tipo acabando en \"- \", por lo que después deberemos aplicar un apply lambda a todos los valores para que, en el caso de acabar en \"- \", se los quite. "
   ]
  },
  {
   "cell_type": "code",
   "execution_count": null,
   "metadata": {},
   "outputs": [],
   "source": [
    "pokemon2=pokemon.copy()\n",
    "# pokemon2.to_csv(\"pokemon2_combotype.csv\",index=False)"
   ]
  },
  {
   "cell_type": "code",
   "execution_count": 150,
   "metadata": {},
   "outputs": [],
   "source": [
    "pokemon2[\"combotype\"] = pokemon2[\"combotype\"].apply(lambda x: x[:-2] if x.endswith(\"- \") else x)"
   ]
  },
  {
   "cell_type": "code",
   "execution_count": 152,
   "metadata": {},
   "outputs": [
    {
     "data": {
      "text/html": [
       "<div>\n",
       "<style scoped>\n",
       "    .dataframe tbody tr th:only-of-type {\n",
       "        vertical-align: middle;\n",
       "    }\n",
       "\n",
       "    .dataframe tbody tr th {\n",
       "        vertical-align: top;\n",
       "    }\n",
       "\n",
       "    .dataframe thead th {\n",
       "        text-align: right;\n",
       "    }\n",
       "</style>\n",
       "<table border=\"1\" class=\"dataframe\">\n",
       "  <thead>\n",
       "    <tr style=\"text-align: right;\">\n",
       "      <th></th>\n",
       "      <th>#</th>\n",
       "      <th>name</th>\n",
       "      <th>type_1</th>\n",
       "      <th>type_2</th>\n",
       "      <th>total</th>\n",
       "      <th>hp</th>\n",
       "      <th>attack</th>\n",
       "      <th>defense</th>\n",
       "      <th>sp._atk</th>\n",
       "      <th>sp._def</th>\n",
       "      <th>speed</th>\n",
       "      <th>generation</th>\n",
       "      <th>legendary</th>\n",
       "      <th>a/d_ratio</th>\n",
       "      <th>combotype</th>\n",
       "    </tr>\n",
       "  </thead>\n",
       "  <tbody>\n",
       "    <tr>\n",
       "      <th>563</th>\n",
       "      <td>504</td>\n",
       "      <td>Patrat</td>\n",
       "      <td>Normal</td>\n",
       "      <td>NaN</td>\n",
       "      <td>255</td>\n",
       "      <td>45</td>\n",
       "      <td>55</td>\n",
       "      <td>39</td>\n",
       "      <td>35</td>\n",
       "      <td>39</td>\n",
       "      <td>42</td>\n",
       "      <td>5</td>\n",
       "      <td>False</td>\n",
       "      <td>1.410256</td>\n",
       "      <td>Normal</td>\n",
       "    </tr>\n",
       "    <tr>\n",
       "      <th>389</th>\n",
       "      <td>356</td>\n",
       "      <td>Dusclops</td>\n",
       "      <td>Ghost</td>\n",
       "      <td>NaN</td>\n",
       "      <td>455</td>\n",
       "      <td>40</td>\n",
       "      <td>70</td>\n",
       "      <td>130</td>\n",
       "      <td>60</td>\n",
       "      <td>130</td>\n",
       "      <td>25</td>\n",
       "      <td>3</td>\n",
       "      <td>False</td>\n",
       "      <td>0.538462</td>\n",
       "      <td>Ghost</td>\n",
       "    </tr>\n",
       "    <tr>\n",
       "      <th>678</th>\n",
       "      <td>617</td>\n",
       "      <td>Accelgor</td>\n",
       "      <td>Bug</td>\n",
       "      <td>NaN</td>\n",
       "      <td>495</td>\n",
       "      <td>80</td>\n",
       "      <td>70</td>\n",
       "      <td>40</td>\n",
       "      <td>100</td>\n",
       "      <td>60</td>\n",
       "      <td>145</td>\n",
       "      <td>5</td>\n",
       "      <td>False</td>\n",
       "      <td>1.750000</td>\n",
       "      <td>Bug</td>\n",
       "    </tr>\n",
       "    <tr>\n",
       "      <th>294</th>\n",
       "      <td>271</td>\n",
       "      <td>Lombre</td>\n",
       "      <td>Water</td>\n",
       "      <td>Grass</td>\n",
       "      <td>340</td>\n",
       "      <td>60</td>\n",
       "      <td>50</td>\n",
       "      <td>50</td>\n",
       "      <td>60</td>\n",
       "      <td>70</td>\n",
       "      <td>50</td>\n",
       "      <td>3</td>\n",
       "      <td>False</td>\n",
       "      <td>1.000000</td>\n",
       "      <td>Water-Grass</td>\n",
       "    </tr>\n",
       "    <tr>\n",
       "      <th>573</th>\n",
       "      <td>514</td>\n",
       "      <td>Simisear</td>\n",
       "      <td>Fire</td>\n",
       "      <td>NaN</td>\n",
       "      <td>498</td>\n",
       "      <td>75</td>\n",
       "      <td>98</td>\n",
       "      <td>63</td>\n",
       "      <td>98</td>\n",
       "      <td>63</td>\n",
       "      <td>101</td>\n",
       "      <td>5</td>\n",
       "      <td>False</td>\n",
       "      <td>1.555556</td>\n",
       "      <td>Fire</td>\n",
       "    </tr>\n",
       "    <tr>\n",
       "      <th>693</th>\n",
       "      <td>632</td>\n",
       "      <td>Durant</td>\n",
       "      <td>Bug</td>\n",
       "      <td>Steel</td>\n",
       "      <td>484</td>\n",
       "      <td>58</td>\n",
       "      <td>109</td>\n",
       "      <td>112</td>\n",
       "      <td>48</td>\n",
       "      <td>48</td>\n",
       "      <td>109</td>\n",
       "      <td>5</td>\n",
       "      <td>False</td>\n",
       "      <td>0.973214</td>\n",
       "      <td>Bug-Steel</td>\n",
       "    </tr>\n",
       "    <tr>\n",
       "      <th>233</th>\n",
       "      <td>215</td>\n",
       "      <td>Sneasel</td>\n",
       "      <td>Dark</td>\n",
       "      <td>Ice</td>\n",
       "      <td>430</td>\n",
       "      <td>55</td>\n",
       "      <td>95</td>\n",
       "      <td>55</td>\n",
       "      <td>35</td>\n",
       "      <td>75</td>\n",
       "      <td>115</td>\n",
       "      <td>2</td>\n",
       "      <td>False</td>\n",
       "      <td>1.727273</td>\n",
       "      <td>Dark-Ice</td>\n",
       "    </tr>\n",
       "    <tr>\n",
       "      <th>348</th>\n",
       "      <td>319</td>\n",
       "      <td>Sharpedo</td>\n",
       "      <td>Water</td>\n",
       "      <td>Dark</td>\n",
       "      <td>460</td>\n",
       "      <td>70</td>\n",
       "      <td>120</td>\n",
       "      <td>40</td>\n",
       "      <td>95</td>\n",
       "      <td>40</td>\n",
       "      <td>95</td>\n",
       "      <td>3</td>\n",
       "      <td>False</td>\n",
       "      <td>3.000000</td>\n",
       "      <td>Water-Dark</td>\n",
       "    </tr>\n",
       "    <tr>\n",
       "      <th>298</th>\n",
       "      <td>275</td>\n",
       "      <td>Shiftry</td>\n",
       "      <td>Grass</td>\n",
       "      <td>Dark</td>\n",
       "      <td>480</td>\n",
       "      <td>90</td>\n",
       "      <td>100</td>\n",
       "      <td>60</td>\n",
       "      <td>90</td>\n",
       "      <td>60</td>\n",
       "      <td>80</td>\n",
       "      <td>3</td>\n",
       "      <td>False</td>\n",
       "      <td>1.666667</td>\n",
       "      <td>Grass-Dark</td>\n",
       "    </tr>\n",
       "    <tr>\n",
       "      <th>633</th>\n",
       "      <td>572</td>\n",
       "      <td>Minccino</td>\n",
       "      <td>Normal</td>\n",
       "      <td>NaN</td>\n",
       "      <td>300</td>\n",
       "      <td>55</td>\n",
       "      <td>50</td>\n",
       "      <td>40</td>\n",
       "      <td>40</td>\n",
       "      <td>40</td>\n",
       "      <td>75</td>\n",
       "      <td>5</td>\n",
       "      <td>False</td>\n",
       "      <td>1.250000</td>\n",
       "      <td>Normal</td>\n",
       "    </tr>\n",
       "  </tbody>\n",
       "</table>\n",
       "</div>"
      ],
      "text/plain": [
       "       #      name  type_1 type_2  total  hp  attack  defense  sp._atk  \\\n",
       "563  504    Patrat  Normal    NaN    255  45      55       39       35   \n",
       "389  356  Dusclops   Ghost    NaN    455  40      70      130       60   \n",
       "678  617  Accelgor     Bug    NaN    495  80      70       40      100   \n",
       "294  271    Lombre   Water  Grass    340  60      50       50       60   \n",
       "573  514  Simisear    Fire    NaN    498  75      98       63       98   \n",
       "693  632    Durant     Bug  Steel    484  58     109      112       48   \n",
       "233  215   Sneasel    Dark    Ice    430  55      95       55       35   \n",
       "348  319  Sharpedo   Water   Dark    460  70     120       40       95   \n",
       "298  275   Shiftry   Grass   Dark    480  90     100       60       90   \n",
       "633  572  Minccino  Normal    NaN    300  55      50       40       40   \n",
       "\n",
       "     sp._def  speed  generation  legendary  a/d_ratio    combotype  \n",
       "563       39     42           5      False   1.410256       Normal  \n",
       "389      130     25           3      False   0.538462        Ghost  \n",
       "678       60    145           5      False   1.750000          Bug  \n",
       "294       70     50           3      False   1.000000  Water-Grass  \n",
       "573       63    101           5      False   1.555556         Fire  \n",
       "693       48    109           5      False   0.973214    Bug-Steel  \n",
       "233       75    115           2      False   1.727273     Dark-Ice  \n",
       "348       40     95           3      False   3.000000   Water-Dark  \n",
       "298       60     80           3      False   1.666667   Grass-Dark  \n",
       "633       40     75           5      False   1.250000       Normal  "
      ]
     },
     "execution_count": 152,
     "metadata": {},
     "output_type": "execute_result"
    }
   ],
   "source": [
    "pokemon2.sample(10)"
   ]
  },
  {
   "cell_type": "markdown",
   "metadata": {},
   "source": [
    "#### Identify the pokemon whose `A/D Ratio` are among the top 5."
   ]
  },
  {
   "cell_type": "code",
   "execution_count": 193,
   "metadata": {},
   "outputs": [
    {
     "data": {
      "text/plain": [
       "Index([429, 347, 19, 453, 348], dtype='int64')"
      ]
     },
     "execution_count": 193,
     "metadata": {},
     "output_type": "execute_result"
    }
   ],
   "source": [
    "# your code here\n",
    "\n",
    "top_5_ad_ratio_index=pokemon2[\"a/d_ratio\"].sort_values(ascending=False).head(5).index\n",
    "top_5_ad_ratio_index\n",
    "\n"
   ]
  },
  {
   "cell_type": "markdown",
   "metadata": {},
   "source": [
    "los top_5, ahora los almacenaremos en una variable y mediante loc, cogeremos los nombres que corresponden a esos índices. "
   ]
  },
  {
   "cell_type": "code",
   "execution_count": 194,
   "metadata": {},
   "outputs": [
    {
     "data": {
      "text/plain": [
       "['DeoxysAttack Forme', 'Carvanha', 'Mega Beedrill', 'Cranidos', 'Sharpedo']"
      ]
     },
     "execution_count": 194,
     "metadata": {},
     "output_type": "execute_result"
    }
   ],
   "source": [
    "top_5_names=pokemon2.loc[top_5_ad_ratio_index,\"name\"].tolist()\n",
    "top_5_names"
   ]
  },
  {
   "cell_type": "markdown",
   "metadata": {},
   "source": [
    "#### For the 5 pokemon printed above, aggregate `Combo Type` and use a list to store the unique values.\n",
    "\n",
    "Your end product is a list containing the distinct `Combo Type` values of the 5 pokemon with the highest `A/D Ratio`."
   ]
  },
  {
   "cell_type": "code",
   "execution_count": 198,
   "metadata": {},
   "outputs": [
    {
     "data": {
      "text/plain": [
       "{'Bug-Poison', 'Psychic', 'Rock', 'Water-Dark'}"
      ]
     },
     "execution_count": 198,
     "metadata": {},
     "output_type": "execute_result"
    }
   ],
   "source": [
    "# your code here\n",
    "top_5_combotypes=pokemon2.loc[top_5_ad_ratio_index,\"combotype\"].tolist()\n",
    "top_5_unique_combotypes=set(top_5_combotypes)\n",
    "top_5_unique_combotypes"
   ]
  },
  {
   "cell_type": "markdown",
   "metadata": {},
   "source": [
    "#### For each of the `Combo Type` values obtained from the previous question, calculate the mean scores of all numeric fields across all pokemon.\n",
    "\n",
    "Your output should look like below:\n",
    "\n",
    "![Aggregate](../images/aggregated-mean.png)"
   ]
  },
  {
   "cell_type": "code",
   "execution_count": null,
   "metadata": {},
   "outputs": [],
   "source": [
    "# your code here\n",
    "numeric_vars=[\"#\",\"total\",\"hp,attack\",\"defense\",\"sp._atk\",\"sp._def\",\"speed\",\"generation\",\"legendary\",\"a/d_ratio\"]"
   ]
  },
  {
   "cell_type": "code",
   "execution_count": 242,
   "metadata": {},
   "outputs": [],
   "source": [
    "combotype_mean_stats_df=pokemon2.groupby(\"combotype\")[[\"#\",\"total\",\"hp\",\"attack\",\"defense\",\"sp._atk\",\"sp._def\",\"speed\",\"generation\",\"legendary\",\"a/d_ratio\"]].mean()\n",
    "combotype_mean_stats_df2=combotype_mean_stats_df.reset_index()"
   ]
  },
  {
   "cell_type": "code",
   "execution_count": 243,
   "metadata": {},
   "outputs": [
    {
     "data": {
      "text/html": [
       "<div>\n",
       "<style scoped>\n",
       "    .dataframe tbody tr th:only-of-type {\n",
       "        vertical-align: middle;\n",
       "    }\n",
       "\n",
       "    .dataframe tbody tr th {\n",
       "        vertical-align: top;\n",
       "    }\n",
       "\n",
       "    .dataframe thead th {\n",
       "        text-align: right;\n",
       "    }\n",
       "</style>\n",
       "<table border=\"1\" class=\"dataframe\">\n",
       "  <thead>\n",
       "    <tr style=\"text-align: right;\">\n",
       "      <th></th>\n",
       "      <th>combotype</th>\n",
       "      <th>#</th>\n",
       "      <th>total</th>\n",
       "      <th>hp</th>\n",
       "      <th>attack</th>\n",
       "      <th>defense</th>\n",
       "      <th>sp._atk</th>\n",
       "      <th>sp._def</th>\n",
       "      <th>speed</th>\n",
       "      <th>generation</th>\n",
       "      <th>legendary</th>\n",
       "      <th>a/d_ratio</th>\n",
       "    </tr>\n",
       "  </thead>\n",
       "  <tbody>\n",
       "    <tr>\n",
       "      <th>8</th>\n",
       "      <td>Bug-Poison</td>\n",
       "      <td>199.166667</td>\n",
       "      <td>347.916667</td>\n",
       "      <td>53.750000</td>\n",
       "      <td>68.333333</td>\n",
       "      <td>58.083333</td>\n",
       "      <td>42.500000</td>\n",
       "      <td>59.333333</td>\n",
       "      <td>65.916667</td>\n",
       "      <td>2.333333</td>\n",
       "      <td>0.000000</td>\n",
       "      <td>1.315989</td>\n",
       "    </tr>\n",
       "    <tr>\n",
       "      <th>109</th>\n",
       "      <td>Psychic</td>\n",
       "      <td>381.973684</td>\n",
       "      <td>464.552632</td>\n",
       "      <td>72.552632</td>\n",
       "      <td>64.947368</td>\n",
       "      <td>67.236842</td>\n",
       "      <td>98.552632</td>\n",
       "      <td>82.394737</td>\n",
       "      <td>78.868421</td>\n",
       "      <td>3.342105</td>\n",
       "      <td>0.236842</td>\n",
       "      <td>1.164196</td>\n",
       "    </tr>\n",
       "    <tr>\n",
       "      <th>117</th>\n",
       "      <td>Rock</td>\n",
       "      <td>410.111111</td>\n",
       "      <td>409.444444</td>\n",
       "      <td>67.111111</td>\n",
       "      <td>103.333333</td>\n",
       "      <td>107.222222</td>\n",
       "      <td>40.555556</td>\n",
       "      <td>58.333333</td>\n",
       "      <td>32.888889</td>\n",
       "      <td>3.888889</td>\n",
       "      <td>0.111111</td>\n",
       "      <td>1.260091</td>\n",
       "    </tr>\n",
       "    <tr>\n",
       "      <th>140</th>\n",
       "      <td>Water-Dark</td>\n",
       "      <td>347.666667</td>\n",
       "      <td>493.833333</td>\n",
       "      <td>69.166667</td>\n",
       "      <td>120.000000</td>\n",
       "      <td>65.166667</td>\n",
       "      <td>88.833333</td>\n",
       "      <td>63.500000</td>\n",
       "      <td>87.166667</td>\n",
       "      <td>3.166667</td>\n",
       "      <td>0.000000</td>\n",
       "      <td>2.291949</td>\n",
       "    </tr>\n",
       "  </tbody>\n",
       "</table>\n",
       "</div>"
      ],
      "text/plain": [
       "      combotype           #       total         hp      attack     defense  \\\n",
       "8    Bug-Poison  199.166667  347.916667  53.750000   68.333333   58.083333   \n",
       "109     Psychic  381.973684  464.552632  72.552632   64.947368   67.236842   \n",
       "117        Rock  410.111111  409.444444  67.111111  103.333333  107.222222   \n",
       "140  Water-Dark  347.666667  493.833333  69.166667  120.000000   65.166667   \n",
       "\n",
       "       sp._atk    sp._def      speed  generation  legendary  a/d_ratio  \n",
       "8    42.500000  59.333333  65.916667    2.333333   0.000000   1.315989  \n",
       "109  98.552632  82.394737  78.868421    3.342105   0.236842   1.164196  \n",
       "117  40.555556  58.333333  32.888889    3.888889   0.111111   1.260091  \n",
       "140  88.833333  63.500000  87.166667    3.166667   0.000000   2.291949  "
      ]
     },
     "execution_count": 243,
     "metadata": {},
     "output_type": "execute_result"
    }
   ],
   "source": [
    "top_5_combotype_mean_stats_df=combotype_mean_stats_df2[combotype_mean_stats_df2[\"combotype\"].isin(top_5_unique_combotypes)]\n",
    "top_5_combotype_mean_stats_df"
   ]
  },
  {
   "cell_type": "code",
   "execution_count": null,
   "metadata": {},
   "outputs": [],
   "source": []
  }
 ],
 "metadata": {
  "kernelspec": {
   "display_name": "base",
   "language": "python",
   "name": "python3"
  },
  "language_info": {
   "codemirror_mode": {
    "name": "ipython",
    "version": 3
   },
   "file_extension": ".py",
   "mimetype": "text/x-python",
   "name": "python",
   "nbconvert_exporter": "python",
   "pygments_lexer": "ipython3",
   "version": "3.12.4"
  }
 },
 "nbformat": 4,
 "nbformat_minor": 2
}
